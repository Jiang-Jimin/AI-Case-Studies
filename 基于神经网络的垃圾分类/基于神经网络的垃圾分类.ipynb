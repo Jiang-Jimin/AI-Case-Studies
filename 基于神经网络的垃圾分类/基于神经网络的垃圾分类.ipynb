{
 "cells": [
  {
   "cell_type": "markdown",
   "metadata": {},
   "source": [
    "## 基于神经网络的垃圾分类\n",
    "垃圾分类，一般是指按一定规定或标准将垃圾分类储存、分类投放和分类搬运，从而转变成公共资源的一系列活动的总称。分类的目的是提高垃圾的资源价值和经济价值，力争物尽其用。\n",
    "\n",
    "垃圾分为四类，分别是有害垃圾、厨余垃圾、可回收物和其他垃圾，其对应的垃圾桶颜色分别是红、绿、蓝、黑。\n",
    "![](img/1.jpg)"
   ]
  },
  {
   "cell_type": "markdown",
   "metadata": {},
   "source": [
    "垃圾分类的意义：\n",
    "\n",
    "1、提高了废品回收利用的比例，能源再生，减少了原材料的需求，减少二氧化碳的排放。\n",
    "\n",
    "2、将易腐有机成分为主的厨房垃圾单独分类，为垃圾堆肥提供优质原料，生产出优质的有机肥，这样有利于改善土壤肥力，减少化肥施用量。\n",
    "\n",
    "3、普及环保与垃圾的知识，提升全社会对环卫行业的认知，减少环卫工人的工作难度，形成尊重、关心环卫工人的氛围。\n",
    "\n",
    "4、把有害垃圾分类出来，减少了垃圾中的重金属、有机污染物、致病菌的含量，有利于垃圾的无害化处理，减少了垃圾处理的水、土壤、大气污染风险。"
   ]
  },
  {
   "cell_type": "markdown",
   "metadata": {},
   "source": [
    "本次项目使用的数据集包括硬纸板、玻璃制品、金属、纸制品、塑料和废物垃圾等6种常见的生活垃圾共计2247张。项目分为3部分。数据处理、模型建立和模型测试。经过迭代模型在训练集上准确率达到89.89%左右，在验证集上准确率达到77.68%左右。"
   ]
  },
  {
   "cell_type": "markdown",
   "metadata": {},
   "source": [
    "### 导入所需的库"
   ]
  },
  {
   "cell_type": "code",
   "execution_count": 1,
   "metadata": {},
   "outputs": [],
   "source": [
    "import numpy as np\n",
    "import matplotlib.pyplot as plt\n",
    "from tensorflow.keras.preprocessing.image import ImageDataGenerator, load_img, img_to_array, array_to_img\n",
    "from tensorflow.keras.layers import Conv2D, Flatten, MaxPooling2D, Dense\n",
    "from tensorflow.keras.models import Sequential\n",
    "from tensorflow.keras.callbacks import EarlyStopping\n",
    "from tensorflow.keras.applications.imagenet_utils import preprocess_input\n",
    "import glob, os, random\n",
    "from tensorflow.keras.models import model_from_json\n",
    "from tensorflow.keras.preprocessing import image\n",
    "from tensorflow.keras.optimizers import SGD"
   ]
  },
  {
   "cell_type": "markdown",
   "metadata": {},
   "source": [
    "### 路径定义"
   ]
  },
  {
   "cell_type": "code",
   "execution_count": 2,
   "metadata": {},
   "outputs": [],
   "source": [
    "root_path = 'F:/案例/智能环保/基于深度学习的垃圾分类'\n",
    "labels = {0: 'cardboard', 1: 'glass', 2: 'metal', 3: 'paper', 4: 'plastic', 5: 'trash'}"
   ]
  },
  {
   "cell_type": "markdown",
   "metadata": {},
   "source": [
    "## 1.数据处理\n",
    "### 扩充训练样本\n",
    "对样本图片进行缩放、翻转、选择等操作对样本进行扩充，使得样本数据更加丰富，有利于模型性能的提高。"
   ]
  },
  {
   "cell_type": "code",
   "execution_count": 3,
   "metadata": {},
   "outputs": [
    {
     "name": "stdout",
     "output_type": "stream",
     "text": [
      "Found 2024 images belonging to 6 classes.\n",
      "Found 223 images belonging to 6 classes.\n"
     ]
    }
   ],
   "source": [
    "train_datagen = ImageDataGenerator(\n",
    "    rescale=1. / 255,  # 数据缩放，把像素点的值除以255，使之在0到1之间\n",
    "    shear_range=0.1,  # 错切变换角度\n",
    "    zoom_range=0.1,  # 随机缩放范围\n",
    "    width_shift_range = 0.1,\n",
    "    height_shift_range = 0.1,\n",
    "    horizontal_flip=True,\n",
    "    vertical_flip = True,\n",
    "    validation_split = 0.1\n",
    ")\n",
    "# 归一化验证集\n",
    "val_datagen = ImageDataGenerator(\n",
    "    rescale=1. / 255,validation_split=0.1)\n",
    "\n",
    "train_generator = train_datagen.flow_from_directory(\n",
    "    root_path+'/dataset',\n",
    "    target_size=(300, 300),\n",
    "    batch_size=16,\n",
    "    class_mode='categorical',\n",
    "    subset='training',\n",
    "    seed=0)\n",
    "\n",
    "val_generator = val_datagen.flow_from_directory(\n",
    "    root_path+'/dataset',\n",
    "    target_size=(300, 300),\n",
    "    batch_size=16,\n",
    "    class_mode='categorical',\n",
    "    subset='validation',\n",
    "    seed=0)"
   ]
  },
  {
   "cell_type": "markdown",
   "metadata": {},
   "source": [
    "## 2.模型创建\n",
    "### 创建网络\n",
    "使用keras创建卷积神经网络进行模型的建立。"
   ]
  },
  {
   "cell_type": "code",
   "execution_count": 4,
   "metadata": {},
   "outputs": [
    {
     "name": "stdout",
     "output_type": "stream",
     "text": [
      "Model: \"sequential\"\n",
      "_________________________________________________________________\n",
      "Layer (type)                 Output Shape              Param #   \n",
      "=================================================================\n",
      "conv2d (Conv2D)              (None, 300, 300, 32)      896       \n",
      "_________________________________________________________________\n",
      "max_pooling2d (MaxPooling2D) (None, 150, 150, 32)      0         \n",
      "_________________________________________________________________\n",
      "conv2d_1 (Conv2D)            (None, 150, 150, 64)      18496     \n",
      "_________________________________________________________________\n",
      "max_pooling2d_1 (MaxPooling2 (None, 75, 75, 64)        0         \n",
      "_________________________________________________________________\n",
      "conv2d_2 (Conv2D)            (None, 75, 75, 32)        18464     \n",
      "_________________________________________________________________\n",
      "max_pooling2d_2 (MaxPooling2 (None, 37, 37, 32)        0         \n",
      "_________________________________________________________________\n",
      "conv2d_3 (Conv2D)            (None, 37, 37, 32)        9248      \n",
      "_________________________________________________________________\n",
      "max_pooling2d_3 (MaxPooling2 (None, 18, 18, 32)        0         \n",
      "_________________________________________________________________\n",
      "flatten (Flatten)            (None, 10368)             0         \n",
      "_________________________________________________________________\n",
      "dense (Dense)                (None, 64)                663616    \n",
      "_________________________________________________________________\n",
      "dense_1 (Dense)              (None, 6)                 390       \n",
      "=================================================================\n",
      "Total params: 711,110\n",
      "Trainable params: 711,110\n",
      "Non-trainable params: 0\n",
      "_________________________________________________________________\n"
     ]
    }
   ],
   "source": [
    "model = Sequential()\n",
    "\n",
    "model.add(Conv2D(filters=32, kernel_size=3, padding='same', activation='relu', input_shape=(300, 300, 3)))\n",
    "model.add(MaxPooling2D(pool_size=2))\n",
    "\n",
    "model.add(Conv2D(filters=64, kernel_size=3, padding='same', activation='relu'))\n",
    "model.add(MaxPooling2D(pool_size=2))\n",
    "\n",
    "model.add(Conv2D(filters=32, kernel_size=3, padding='same', activation='relu'))\n",
    "model.add(MaxPooling2D(pool_size=2))\n",
    "\n",
    "model.add(Conv2D(filters=32, kernel_size=3, padding='same', activation='relu'))\n",
    "model.add(MaxPooling2D(pool_size=2))\n",
    "\n",
    "model.add(Flatten())  # 扁平化参数\n",
    "model.add(Dense(64, activation='relu'))\n",
    "model.add(Dense(6, activation='softmax'))\n",
    "model.summary()"
   ]
  },
  {
   "cell_type": "markdown",
   "metadata": {},
   "source": [
    "### 编译网络"
   ]
  },
  {
   "cell_type": "code",
   "execution_count": 6,
   "metadata": {},
   "outputs": [],
   "source": [
    "model.compile(loss='categorical_crossentropy',\n",
    "                   optimizer='adam',#sgd 'adam'\n",
    "                   metrics=['accuracy'])"
   ]
  },
  {
   "cell_type": "markdown",
   "metadata": {},
   "source": [
    "### 网络训练"
   ]
  },
  {
   "cell_type": "code",
   "execution_count": 7,
   "metadata": {
    "scrolled": false
   },
   "outputs": [
    {
     "name": "stdout",
     "output_type": "stream",
     "text": [
      "Epoch 1/100\n",
      "71/71 [==============================] - 104s 1s/step - loss: 1.5525 - accuracy: 0.3227 - val_loss: 1.6099 - val_accuracy: 0.2500\n",
      "Epoch 2/100\n",
      "71/71 [==============================] - 104s 1s/step - loss: 1.2958 - accuracy: 0.4621 - val_loss: 1.2653 - val_accuracy: 0.4554\n",
      "Epoch 3/100\n",
      "71/71 [==============================] - 105s 1s/step - loss: 1.1596 - accuracy: 0.5213 - val_loss: 1.3033 - val_accuracy: 0.4821\n",
      "Epoch 4/100\n",
      "71/71 [==============================] - 104s 1s/step - loss: 1.1566 - accuracy: 0.5186 - val_loss: 1.7038 - val_accuracy: 0.2768\n",
      "Epoch 5/100\n",
      "71/71 [==============================] - 105s 1s/step - loss: 1.0805 - accuracy: 0.5638 - val_loss: 0.9755 - val_accuracy: 0.5804\n",
      "Epoch 6/100\n",
      "71/71 [==============================] - 104s 1s/step - loss: 1.0232 - accuracy: 0.6028 - val_loss: 1.0741 - val_accuracy: 0.5179\n",
      "Epoch 7/100\n",
      "71/71 [==============================] - 103s 1s/step - loss: 0.9752 - accuracy: 0.6215 - val_loss: 1.1301 - val_accuracy: 0.5714\n",
      "Epoch 8/100\n",
      "71/71 [==============================] - 103s 1s/step - loss: 0.9655 - accuracy: 0.6365 - val_loss: 1.0303 - val_accuracy: 0.5982\n",
      "Epoch 9/100\n",
      "71/71 [==============================] - 103s 1s/step - loss: 0.9379 - accuracy: 0.6321 - val_loss: 0.8438 - val_accuracy: 0.6429\n",
      "Epoch 10/100\n",
      "71/71 [==============================] - 104s 1s/step - loss: 0.9258 - accuracy: 0.6472 - val_loss: 0.9449 - val_accuracy: 0.6250\n",
      "Epoch 11/100\n",
      "71/71 [==============================] - 105s 1s/step - loss: 0.8986 - accuracy: 0.6329 - val_loss: 0.8948 - val_accuracy: 0.6339\n",
      "Epoch 12/100\n",
      "71/71 [==============================] - 104s 1s/step - loss: 0.8746 - accuracy: 0.6658 - val_loss: 0.9739 - val_accuracy: 0.5625\n",
      "Epoch 13/100\n",
      "71/71 [==============================] - 104s 1s/step - loss: 0.9160 - accuracy: 0.6540 - val_loss: 1.0483 - val_accuracy: 0.5893\n",
      "Epoch 14/100\n",
      "71/71 [==============================] - 103s 1s/step - loss: 0.8314 - accuracy: 0.6989 - val_loss: 0.9239 - val_accuracy: 0.6429\n",
      "Epoch 15/100\n",
      "71/71 [==============================] - 104s 1s/step - loss: 0.7988 - accuracy: 0.7021 - val_loss: 0.9411 - val_accuracy: 0.6250\n",
      "Epoch 16/100\n",
      "71/71 [==============================] - 103s 1s/step - loss: 0.7583 - accuracy: 0.7110 - val_loss: 0.7397 - val_accuracy: 0.6964\n",
      "Epoch 17/100\n",
      "71/71 [==============================] - 104s 1s/step - loss: 0.7402 - accuracy: 0.7218 - val_loss: 0.8379 - val_accuracy: 0.6786\n",
      "Epoch 18/100\n",
      "71/71 [==============================] - 104s 1s/step - loss: 0.7451 - accuracy: 0.7190 - val_loss: 0.8266 - val_accuracy: 0.6429\n",
      "Epoch 19/100\n",
      "71/71 [==============================] - 104s 1s/step - loss: 0.7463 - accuracy: 0.7324 - val_loss: 0.8252 - val_accuracy: 0.7143\n",
      "Epoch 20/100\n",
      "71/71 [==============================] - 104s 1s/step - loss: 0.8385 - accuracy: 0.6959 - val_loss: 0.9297 - val_accuracy: 0.6786\n",
      "Epoch 21/100\n",
      "71/71 [==============================] - 104s 1s/step - loss: 0.7417 - accuracy: 0.7139 - val_loss: 0.8543 - val_accuracy: 0.6786\n",
      "Epoch 22/100\n",
      "71/71 [==============================] - 104s 1s/step - loss: 0.7562 - accuracy: 0.7130 - val_loss: 0.8266 - val_accuracy: 0.6875\n",
      "Epoch 23/100\n",
      "71/71 [==============================] - 105s 1s/step - loss: 0.6784 - accuracy: 0.7367 - val_loss: 0.8405 - val_accuracy: 0.6875\n",
      "Epoch 24/100\n",
      "71/71 [==============================] - 103s 1s/step - loss: 0.7324 - accuracy: 0.7216 - val_loss: 1.0172 - val_accuracy: 0.6161\n",
      "Epoch 25/100\n",
      "71/71 [==============================] - 103s 1s/step - loss: 0.7412 - accuracy: 0.7172 - val_loss: 0.9047 - val_accuracy: 0.6250\n",
      "Epoch 26/100\n",
      "71/71 [==============================] - 103s 1s/step - loss: 0.7014 - accuracy: 0.7456 - val_loss: 0.7588 - val_accuracy: 0.7143\n",
      "Epoch 27/100\n",
      "71/71 [==============================] - 103s 1s/step - loss: 0.6186 - accuracy: 0.7711 - val_loss: 0.8497 - val_accuracy: 0.6875\n",
      "Epoch 28/100\n",
      "71/71 [==============================] - 103s 1s/step - loss: 0.5854 - accuracy: 0.7926 - val_loss: 1.0816 - val_accuracy: 0.6250\n",
      "Epoch 29/100\n",
      "71/71 [==============================] - 103s 1s/step - loss: 0.6123 - accuracy: 0.7651 - val_loss: 0.7893 - val_accuracy: 0.7679\n",
      "Epoch 30/100\n",
      "71/71 [==============================] - 103s 1s/step - loss: 0.6028 - accuracy: 0.7704 - val_loss: 0.7019 - val_accuracy: 0.7321\n",
      "Epoch 31/100\n",
      "71/71 [==============================] - 103s 1s/step - loss: 0.6833 - accuracy: 0.7491 - val_loss: 0.7254 - val_accuracy: 0.7589\n",
      "Epoch 32/100\n",
      "71/71 [==============================] - 104s 1s/step - loss: 0.5985 - accuracy: 0.7782 - val_loss: 0.7650 - val_accuracy: 0.6875\n",
      "Epoch 33/100\n",
      "71/71 [==============================] - 103s 1s/step - loss: 0.5150 - accuracy: 0.8005 - val_loss: 0.8014 - val_accuracy: 0.7500\n",
      "Epoch 34/100\n",
      "71/71 [==============================] - 104s 1s/step - loss: 0.5562 - accuracy: 0.7843 - val_loss: 0.8878 - val_accuracy: 0.7411\n",
      "Epoch 35/100\n",
      "71/71 [==============================] - 103s 1s/step - loss: 0.5986 - accuracy: 0.7773 - val_loss: 0.7076 - val_accuracy: 0.7679\n",
      "Epoch 36/100\n",
      "71/71 [==============================] - 103s 1s/step - loss: 0.5700 - accuracy: 0.7775 - val_loss: 0.7757 - val_accuracy: 0.7054\n",
      "Epoch 37/100\n",
      "71/71 [==============================] - 103s 1s/step - loss: 0.6144 - accuracy: 0.7685 - val_loss: 0.8394 - val_accuracy: 0.6786\n",
      "Epoch 38/100\n",
      "71/71 [==============================] - 103s 1s/step - loss: 0.5410 - accuracy: 0.8002 - val_loss: 0.9563 - val_accuracy: 0.6875\n",
      "Epoch 39/100\n",
      "71/71 [==============================] - 103s 1s/step - loss: 0.5367 - accuracy: 0.8094 - val_loss: 0.9229 - val_accuracy: 0.7054\n",
      "Epoch 40/100\n",
      "71/71 [==============================] - 103s 1s/step - loss: 0.5689 - accuracy: 0.7855 - val_loss: 1.0167 - val_accuracy: 0.7143\n",
      "Epoch 41/100\n",
      "71/71 [==============================] - 98s 1s/step - loss: 0.5014 - accuracy: 0.8289 - val_loss: 0.7097 - val_accuracy: 0.7768\n",
      "Epoch 42/100\n",
      "71/71 [==============================] - 76s 1s/step - loss: 0.5096 - accuracy: 0.8028 - val_loss: 0.6610 - val_accuracy: 0.7679\n",
      "Epoch 43/100\n",
      "71/71 [==============================] - 76s 1s/step - loss: 0.4759 - accuracy: 0.8099 - val_loss: 0.6071 - val_accuracy: 0.8125\n",
      "Epoch 44/100\n",
      "71/71 [==============================] - 75s 1s/step - loss: 0.5014 - accuracy: 0.8076 - val_loss: 0.7350 - val_accuracy: 0.7946\n",
      "Epoch 45/100\n",
      "71/71 [==============================] - 75s 1s/step - loss: 0.5248 - accuracy: 0.8085 - val_loss: 0.6210 - val_accuracy: 0.8125\n",
      "Epoch 46/100\n",
      "71/71 [==============================] - 75s 1s/step - loss: 0.4363 - accuracy: 0.8351 - val_loss: 0.7539 - val_accuracy: 0.8125\n",
      "Epoch 47/100\n",
      "71/71 [==============================] - 75s 1s/step - loss: 0.4903 - accuracy: 0.8147 - val_loss: 0.9423 - val_accuracy: 0.7232\n",
      "Epoch 48/100\n",
      "71/71 [==============================] - 76s 1s/step - loss: 0.4529 - accuracy: 0.8345 - val_loss: 0.8954 - val_accuracy: 0.7054\n",
      "Epoch 49/100\n",
      "71/71 [==============================] - 76s 1s/step - loss: 0.4391 - accuracy: 0.8266 - val_loss: 0.7576 - val_accuracy: 0.7411\n",
      "Epoch 50/100\n",
      "71/71 [==============================] - 75s 1s/step - loss: 0.4835 - accuracy: 0.8209 - val_loss: 0.7668 - val_accuracy: 0.7679\n",
      "Epoch 51/100\n",
      "71/71 [==============================] - 75s 1s/step - loss: 0.5175 - accuracy: 0.8094 - val_loss: 0.5977 - val_accuracy: 0.7946\n",
      "Epoch 52/100\n",
      "71/71 [==============================] - 76s 1s/step - loss: 0.4029 - accuracy: 0.8627 - val_loss: 0.9934 - val_accuracy: 0.7232\n",
      "Epoch 53/100\n",
      "71/71 [==============================] - 75s 1s/step - loss: 0.5558 - accuracy: 0.7855 - val_loss: 0.8703 - val_accuracy: 0.7679\n",
      "Epoch 54/100\n",
      "71/71 [==============================] - 76s 1s/step - loss: 0.4305 - accuracy: 0.8336 - val_loss: 0.8984 - val_accuracy: 0.7321\n",
      "Epoch 55/100\n",
      "71/71 [==============================] - 76s 1s/step - loss: 0.4008 - accuracy: 0.8583 - val_loss: 0.8899 - val_accuracy: 0.6786\n",
      "Epoch 56/100\n",
      "71/71 [==============================] - 75s 1s/step - loss: 0.4435 - accuracy: 0.8298 - val_loss: 0.9795 - val_accuracy: 0.7500\n",
      "Epoch 57/100\n",
      "71/71 [==============================] - 76s 1s/step - loss: 0.4900 - accuracy: 0.8222 - val_loss: 1.2448 - val_accuracy: 0.6250\n",
      "Epoch 58/100\n",
      "71/71 [==============================] - 76s 1s/step - loss: 0.5432 - accuracy: 0.7993 - val_loss: 1.0308 - val_accuracy: 0.7054\n",
      "Epoch 59/100\n",
      "71/71 [==============================] - 76s 1s/step - loss: 0.4272 - accuracy: 0.8371 - val_loss: 0.8452 - val_accuracy: 0.7232\n",
      "Epoch 60/100\n",
      "71/71 [==============================] - 76s 1s/step - loss: 0.4387 - accuracy: 0.8336 - val_loss: 0.7308 - val_accuracy: 0.7321\n",
      "Epoch 61/100\n",
      "71/71 [==============================] - 76s 1s/step - loss: 0.3711 - accuracy: 0.8590 - val_loss: 0.7285 - val_accuracy: 0.7857\n",
      "Epoch 62/100\n",
      "71/71 [==============================] - 76s 1s/step - loss: 0.3660 - accuracy: 0.8644 - val_loss: 0.6713 - val_accuracy: 0.8214\n",
      "Epoch 63/100\n",
      "71/71 [==============================] - 76s 1s/step - loss: 0.3946 - accuracy: 0.8618 - val_loss: 0.8288 - val_accuracy: 0.7679\n",
      "Epoch 64/100\n",
      "71/71 [==============================] - 75s 1s/step - loss: 0.3769 - accuracy: 0.8635 - val_loss: 0.9338 - val_accuracy: 0.7589\n",
      "Epoch 65/100\n",
      "71/71 [==============================] - 76s 1s/step - loss: 0.3585 - accuracy: 0.8732 - val_loss: 0.7354 - val_accuracy: 0.8036\n",
      "Epoch 66/100\n",
      "71/71 [==============================] - 76s 1s/step - loss: 0.4051 - accuracy: 0.8404 - val_loss: 1.0589 - val_accuracy: 0.7054\n",
      "Epoch 67/100\n",
      "71/71 [==============================] - 76s 1s/step - loss: 0.3901 - accuracy: 0.8599 - val_loss: 0.6794 - val_accuracy: 0.7768\n",
      "Epoch 68/100\n",
      "71/71 [==============================] - 76s 1s/step - loss: 0.3984 - accuracy: 0.8539 - val_loss: 0.7735 - val_accuracy: 0.7857\n",
      "Epoch 69/100\n",
      "71/71 [==============================] - 76s 1s/step - loss: 0.3838 - accuracy: 0.8617 - val_loss: 0.7898 - val_accuracy: 0.7946\n",
      "Epoch 70/100\n",
      "71/71 [==============================] - 77s 1s/step - loss: 0.3294 - accuracy: 0.8750 - val_loss: 0.8973 - val_accuracy: 0.7679\n",
      "Epoch 71/100\n",
      "71/71 [==============================] - 75s 1s/step - loss: 0.3923 - accuracy: 0.8635 - val_loss: 0.6814 - val_accuracy: 0.8036\n",
      "Epoch 72/100\n",
      "71/71 [==============================] - 75s 1s/step - loss: 0.3517 - accuracy: 0.8759 - val_loss: 0.7194 - val_accuracy: 0.8125\n",
      "Epoch 73/100\n",
      "71/71 [==============================] - 76s 1s/step - loss: 0.3597 - accuracy: 0.8653 - val_loss: 0.4757 - val_accuracy: 0.8125\n",
      "Epoch 74/100\n",
      "71/71 [==============================] - 76s 1s/step - loss: 0.3383 - accuracy: 0.8759 - val_loss: 0.7410 - val_accuracy: 0.7589\n",
      "Epoch 75/100\n",
      "71/71 [==============================] - 75s 1s/step - loss: 0.4322 - accuracy: 0.8378 - val_loss: 0.6728 - val_accuracy: 0.7946\n",
      "Epoch 76/100\n",
      "71/71 [==============================] - 75s 1s/step - loss: 0.3534 - accuracy: 0.8750 - val_loss: 0.7884 - val_accuracy: 0.7946\n",
      "Epoch 77/100\n",
      "71/71 [==============================] - 75s 1s/step - loss: 0.3591 - accuracy: 0.8688 - val_loss: 0.5923 - val_accuracy: 0.8125\n",
      "Epoch 78/100\n",
      "71/71 [==============================] - 76s 1s/step - loss: 0.3404 - accuracy: 0.8812 - val_loss: 0.6794 - val_accuracy: 0.8304\n",
      "Epoch 79/100\n",
      "71/71 [==============================] - 75s 1s/step - loss: 0.3053 - accuracy: 0.8785 - val_loss: 0.7103 - val_accuracy: 0.8393\n",
      "Epoch 80/100\n",
      "71/71 [==============================] - 75s 1s/step - loss: 0.3286 - accuracy: 0.8777 - val_loss: 0.8527 - val_accuracy: 0.7768\n",
      "Epoch 81/100\n",
      "71/71 [==============================] - 75s 1s/step - loss: 0.3872 - accuracy: 0.8555 - val_loss: 1.0480 - val_accuracy: 0.7143\n",
      "Epoch 82/100\n",
      "71/71 [==============================] - 76s 1s/step - loss: 0.3218 - accuracy: 0.8891 - val_loss: 1.0940 - val_accuracy: 0.7232\n",
      "Epoch 83/100\n",
      "71/71 [==============================] - 76s 1s/step - loss: 0.2880 - accuracy: 0.8961 - val_loss: 0.6512 - val_accuracy: 0.8304\n",
      "Epoch 84/100\n",
      "71/71 [==============================] - 75s 1s/step - loss: 0.3410 - accuracy: 0.8759 - val_loss: 0.8530 - val_accuracy: 0.8036\n",
      "Epoch 85/100\n",
      "71/71 [==============================] - 76s 1s/step - loss: 0.2545 - accuracy: 0.8961 - val_loss: 0.5048 - val_accuracy: 0.7857\n",
      "Epoch 86/100\n",
      "71/71 [==============================] - 75s 1s/step - loss: 0.3009 - accuracy: 0.8918 - val_loss: 0.8107 - val_accuracy: 0.7946\n",
      "Epoch 87/100\n",
      "71/71 [==============================] - 75s 1s/step - loss: 0.3101 - accuracy: 0.8839 - val_loss: 0.7346 - val_accuracy: 0.8214\n",
      "Epoch 88/100\n",
      "71/71 [==============================] - 75s 1s/step - loss: 0.3540 - accuracy: 0.8785 - val_loss: 0.6167 - val_accuracy: 0.7768\n",
      "Epoch 89/100\n",
      "71/71 [==============================] - 75s 1s/step - loss: 0.2742 - accuracy: 0.8972 - val_loss: 0.9626 - val_accuracy: 0.7768\n",
      "Epoch 90/100\n",
      "71/71 [==============================] - 75s 1s/step - loss: 0.3146 - accuracy: 0.8883 - val_loss: 0.7468 - val_accuracy: 0.7857\n",
      "Epoch 91/100\n",
      "71/71 [==============================] - 76s 1s/step - loss: 0.3220 - accuracy: 0.8882 - val_loss: 0.6867 - val_accuracy: 0.8482\n",
      "Epoch 92/100\n",
      "71/71 [==============================] - 75s 1s/step - loss: 0.2851 - accuracy: 0.8935 - val_loss: 0.4671 - val_accuracy: 0.8393\n",
      "Epoch 93/100\n",
      "71/71 [==============================] - 75s 1s/step - loss: 0.2595 - accuracy: 0.9016 - val_loss: 0.7992 - val_accuracy: 0.7679\n",
      "Epoch 94/100\n",
      "71/71 [==============================] - 75s 1s/step - loss: 0.3104 - accuracy: 0.8918 - val_loss: 0.8207 - val_accuracy: 0.7768\n",
      "Epoch 95/100\n",
      "71/71 [==============================] - 75s 1s/step - loss: 0.3339 - accuracy: 0.8768 - val_loss: 1.1686 - val_accuracy: 0.7143\n",
      "Epoch 96/100\n",
      "71/71 [==============================] - 75s 1s/step - loss: 0.3781 - accuracy: 0.8539 - val_loss: 0.8831 - val_accuracy: 0.8036\n",
      "Epoch 97/100\n",
      "71/71 [==============================] - 75s 1s/step - loss: 0.2647 - accuracy: 0.9078 - val_loss: 0.9119 - val_accuracy: 0.7679\n",
      "Epoch 98/100\n",
      "71/71 [==============================] - 75s 1s/step - loss: 0.2494 - accuracy: 0.9122 - val_loss: 0.8151 - val_accuracy: 0.8036\n",
      "Epoch 99/100\n",
      "71/71 [==============================] - 75s 1s/step - loss: 0.2551 - accuracy: 0.9140 - val_loss: 0.9108 - val_accuracy: 0.7857\n",
      "Epoch 100/100\n",
      "71/71 [==============================] - 75s 1s/step - loss: 0.2915 - accuracy: 0.8989 - val_loss: 0.8647 - val_accuracy: 0.7768\n"
     ]
    }
   ],
   "source": [
    "history_fit = model.fit_generator(train_generator,\n",
    "                                  epochs=100,  # 迭代总轮数\n",
    "                                  steps_per_epoch=2276//32,  # generator 产生的总步数（批次样本）\n",
    "                                  validation_data=val_generator,  # 验证数据的生成器\n",
    "                                  validation_steps=251//32)"
   ]
  },
  {
   "cell_type": "markdown",
   "metadata": {},
   "source": [
    "### 准确率和损失值的可视化"
   ]
  },
  {
   "cell_type": "code",
   "execution_count": 8,
   "metadata": {},
   "outputs": [
    {
     "data": {
      "image/png": "[encoded data removed]",
      "text/plain": [
       "<Figure size 432x288 with 1 Axes>"
      ]
     },
     "metadata": {
      "needs_background": "light"
     },
     "output_type": "display_data"
    },
    {
     "data": {
      "image/png": "[encoded data removed]",
      "text/plain": [
       "<Figure size 432x288 with 1 Axes>"
      ]
     },
     "metadata": {
      "needs_background": "light"
     },
     "output_type": "display_data"
    }
   ],
   "source": [
    "with open(root_path + \"/history_fit.json\", \"w\") as json_file:\n",
    "    json_file.write(str(history_fit))\n",
    "\n",
    "acc = history_fit.history['accuracy']\n",
    "val_acc = history_fit.history['val_accuracy']\n",
    "loss = history_fit.history['loss']\n",
    "val_loss = history_fit.history['val_loss']\n",
    "\n",
    "epochs = range(1, len(acc) + 1) \n",
    "plt.figure(\"acc\")\n",
    "plt.plot(epochs, acc, 'r-', label='Training acc')\n",
    "plt.plot(epochs, val_acc, 'b', label='validation acc')\n",
    "plt.title('The comparision of train_acc and val_acc')\n",
    "plt.legend()\n",
    "plt.show()\n",
    "\n",
    "plt.figure(\"loss\")\n",
    "plt.plot(epochs, loss, 'r-', label='Training loss')\n",
    "plt.plot(epochs, val_loss, 'b', label='validation loss')\n",
    "plt.title('The comparision of train_loss and val_loss')\n",
    "plt.legend()\n",
    "plt.show()"
   ]
  },
  {
   "cell_type": "markdown",
   "metadata": {},
   "source": [
    "- 第一张图显示训练集和验证集上准确率随迭代次数的变化情况。\n",
    "- 第二张图显示在训练集和验证集上的损失值的变化情况。"
   ]
  },
  {
   "cell_type": "markdown",
   "metadata": {},
   "source": [
    "## 3.模型测试\n",
    "### 模型保存"
   ]
  },
  {
   "cell_type": "code",
   "execution_count": 9,
   "metadata": {},
   "outputs": [
    {
     "name": "stdout",
     "output_type": "stream",
     "text": [
      "model saved\n"
     ]
    }
   ],
   "source": [
    "model_json=model.to_json()\n",
    "with open(root_path+'/model_json.json', \"w\") as json_file:\n",
    "    json_file.write(model_json)\n",
    "model.save_weights(root_path+'/model_weight.h5')\n",
    "model.save(root_path+'/model.h5')\n",
    "print('model saved')"
   ]
  },
  {
   "cell_type": "markdown",
   "metadata": {},
   "source": [
    "### 模型加载"
   ]
  },
  {
   "cell_type": "code",
   "execution_count": 10,
   "metadata": {},
   "outputs": [],
   "source": [
    "json_file = open(root_path + '/model_json.json')  # 加载模型结构文件\n",
    "loaded_model_json = json_file.read()\n",
    "json_file.close()\n",
    "model = model_from_json(loaded_model_json)  # 结构文件转化为模型\n",
    "# 加载权重\n",
    "model.load_weights(root_path + '/model_weight.h5')  # h5文件保存模型的权重数据"
   ]
  },
  {
   "cell_type": "markdown",
   "metadata": {},
   "source": [
    "### 测试垃圾图片"
   ]
  },
  {
   "cell_type": "code",
   "execution_count": 12,
   "metadata": {},
   "outputs": [],
   "source": [
    "img_path = \"F:/案例/智能环保/基于深度学习的垃圾分类/test_data/cardboard.jpg\"\n",
    "img = image.load_img(img_path, target_size=(300, 300))\n",
    "img = image.img_to_array(img)\n",
    "img = np.expand_dims(img, axis=0)\n",
    "result = model.predict(img)"
   ]
  },
  {
   "cell_type": "markdown",
   "metadata": {},
   "source": [
    "### 显示垃圾类型"
   ]
  },
  {
   "cell_type": "code",
   "execution_count": 13,
   "metadata": {},
   "outputs": [
    {
     "name": "stdout",
     "output_type": "stream",
     "text": [
      "cardboard\n"
     ]
    }
   ],
   "source": [
    "def generate_result(result):\n",
    "    for i in range(6):\n",
    "        if(result[0][i] == 1):\n",
    "            return labels[i]\n",
    "\n",
    "print(generate_result(result))"
   ]
  },
  {
   "cell_type": "markdown",
   "metadata": {},
   "source": [
    "- 图片显示的垃圾为cardboard，使用模型进行预测的结果也显示cardboard"
   ]
  },
  {
   "cell_type": "markdown",
   "metadata": {},
   "source": [
    "## 总结\n",
    "\n",
    "从结果显示可以看到，模型的准确率还有待提高，其中一个很主要的原因是数据量比较少，而且从准确率和损失值的变化图可以看到，迭代次数应当适当的提高."
   ]
  }
 ],
 "metadata": {
  "kernelspec": {
   "display_name": "Python 3",
   "language": "python",
   "name": "python3"
  },
  "language_info": {
   "codemirror_mode": {
    "name": "ipython",
    "version": 3
   },
   "file_extension": ".py",
   "mimetype": "text/x-python",
   "name": "python",
   "nbconvert_exporter": "python",
   "pygments_lexer": "ipython3",
   "version": "3.7.0"
  }
 },
 "nbformat": 4,
 "nbformat_minor": 2
}
